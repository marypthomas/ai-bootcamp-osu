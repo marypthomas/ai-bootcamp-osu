{
  "cells": [
    {
      "cell_type": "markdown",
      "metadata": {
        "id": "view-in-github",
        "colab_type": "text"
      },
      "source": [
        "<a href=\"https://colab.research.google.com/github/marypthomas/ai-bootcamp-osu/blob/main/Session_9/AIBootCamp_NeuralNetworksWithImages_II.ipynb\" target=\"_parent\"><img src=\"https://colab.research.google.com/assets/colab-badge.svg\" alt=\"Open In Colab\"/></a>"
      ]
    },
    {
      "cell_type": "markdown",
      "source": [
        "# **Workflows for Images - A Review**\n",
        "\n",
        "**Author**:\n",
        "- Prof. Eric Fosler-Lussier, The Ohio State University"
      ],
      "metadata": {
        "id": "hjVpN6jg1btR"
      }
    },
    {
      "cell_type": "markdown",
      "metadata": {
        "id": "JBFQZ--ju_nQ"
      },
      "source": [
        "## **Multi-layer Perceptrons vs. Convolutional Neural Networks**\n",
        "\n",
        "In this notebook, we will explore how different convolutional neural network structures result in differences in performance on the [Fashion-MNIST](https://github.com/zalandoresearch/fashion-mnist)  dataset.  This dataset consists of 60,000 28x28 grayscale training images of clothing items of one of ten types (shirt, dress,...), and has a test set of 10,000 images.  \n",
        "\n",
        "The code below provides some examples of how to train a deep neural network for the Fashion-MNIST database.  You can use this as a training/test harness for developing your own MLP/ConvNet."
      ]
    },
    {
      "cell_type": "markdown",
      "source": [
        "## **Preamble**"
      ],
      "metadata": {
        "id": "CaOzPbmIY5IJ"
      }
    },
    {
      "cell_type": "code",
      "execution_count": null,
      "metadata": {
        "id": "PVcdbKGfu7Mt"
      },
      "outputs": [],
      "source": [
        "# import standard PyTorch modules\n",
        "import torch\n",
        "import torch.nn as nn\n",
        "import torch.nn.functional as F\n",
        "import torch.optim as optim\n",
        "from torch.utils.tensorboard import SummaryWriter # TensorBoard support\n",
        "\n",
        "\n",
        "# import torchvision module to handle image manipulation\n",
        "import torchvision\n",
        "import torchvision.transforms as transforms\n",
        "\n"
      ]
    },
    {
      "cell_type": "markdown",
      "metadata": {
        "id": "e_ra6PVjwCoa"
      },
      "source": [
        "The following library call downloads the training set and puts it into data/FashionMNIST, and prepares the dataset to be passed into a pytorch as a tensor."
      ]
    },
    {
      "cell_type": "markdown",
      "source": [
        "## **The Data**"
      ],
      "metadata": {
        "id": "RTUzChKaZAQi"
      }
    },
    {
      "cell_type": "code",
      "execution_count": null,
      "metadata": {
        "id": "XtphcZeJvs8x",
        "colab": {
          "base_uri": "https://localhost:8080/",
          "height": 450,
          "referenced_widgets": [
            "0da047231fbb40fa8f930004d862233f",
            "701e317db1164421a838193df553c023",
            "120a1077461a47d494ec5bbd649072a5",
            "dcbea38aecf0497fbf503b3d7281213d",
            "c21e8700e5624e9e919c42a92f2f53c5",
            "175b56101a624d929f308cabfead7723",
            "2d7471664b374023806a658b617ed9e7",
            "7cb93672ac9040adae1a11e2a1790e40",
            "1c74a78f7d804b7e98ab439001d14836",
            "fa51ddd1245c4680b10d19dee6f6f416",
            "14e7c2d5707b493a9d1349066abb89ec",
            "550c2e266608478eb7767d1fed9ca6d8",
            "d447804e1d114921bfda76f3b785a620",
            "33052c2ccfc44764bcd14dca0b9e1259",
            "483fc46cca2b4490a5059cba2c00eb33",
            "5daa440b6f5f448c962f917674ea2702",
            "9abb4036b4a140f48c7487b60d1a96b8",
            "e37e1ccf1626418b92aad8b5a8a3762e",
            "3d73b3c4dc24457d9a60136a4066cd17",
            "9a22eed819af4426923e3f7c7a31982f",
            "717da1f21ce84c44a53e40e85332abd4",
            "e2b958b761d44a0e97aed8e65586cd9d",
            "de2806f234a747b4b6a3eccb84da797d",
            "6703e40062764898a82f6950bb619388",
            "ec238ec0183546f09e5bbfbd62deab5c",
            "41c55d514efe4c2db607a94eb7be12e5",
            "c3a6a96653fc4f14b078f2f56bdbb447",
            "71b089aa471b434b86fe09e6e2873c33",
            "36571280c1524da0955444219e5fb319",
            "d03b28fe015d4de5b092e133a717c584",
            "433f0490b7574deeb905eeb23c939681",
            "e301787ba633418f894430907a95244e",
            "27deee4df2be49c78786b0d835fd0031",
            "a5399256030e463f8563b3cd1f2d4e1e",
            "cd1460830ac04314bc5a67c0e3c85bda",
            "dc51ca9e3f6f4054838efb7f44468a7c",
            "d5e45309f78b4d90a1a2b1baab05b2e7",
            "6ac455a9196046eb978cee58b39db0d2",
            "eca30d640ee1427394e76386e4ff75c7",
            "10e5ea68e51641bba9705cccfe041276",
            "e39508c2e8164789aa4fdeb25ffc378c",
            "66c6e188f381436783e4e949adb17953",
            "797dbd7bfefb47978cc5a523bf7a4180",
            "3d3dd859d89d4b0eaa227d18cac7bd72"
          ]
        },
        "outputId": "586919d8-bfa7-4481-e9cd-3bf94627d135"
      },
      "outputs": [
        {
          "output_type": "stream",
          "name": "stdout",
          "text": [
            "Downloading http://fashion-mnist.s3-website.eu-central-1.amazonaws.com/train-images-idx3-ubyte.gz\n",
            "Downloading http://fashion-mnist.s3-website.eu-central-1.amazonaws.com/train-images-idx3-ubyte.gz to ./data/FashionMNIST/FashionMNIST/raw/train-images-idx3-ubyte.gz\n"
          ]
        },
        {
          "output_type": "display_data",
          "data": {
            "text/plain": [
              "  0%|          | 0/26421880 [00:00<?, ?it/s]"
            ],
            "application/vnd.jupyter.widget-view+json": {
              "version_major": 2,
              "version_minor": 0,
              "model_id": "0da047231fbb40fa8f930004d862233f"
            }
          },
          "metadata": {}
        },
        {
          "output_type": "stream",
          "name": "stdout",
          "text": [
            "Extracting ./data/FashionMNIST/FashionMNIST/raw/train-images-idx3-ubyte.gz to ./data/FashionMNIST/FashionMNIST/raw\n",
            "\n",
            "Downloading http://fashion-mnist.s3-website.eu-central-1.amazonaws.com/train-labels-idx1-ubyte.gz\n",
            "Downloading http://fashion-mnist.s3-website.eu-central-1.amazonaws.com/train-labels-idx1-ubyte.gz to ./data/FashionMNIST/FashionMNIST/raw/train-labels-idx1-ubyte.gz\n"
          ]
        },
        {
          "output_type": "display_data",
          "data": {
            "text/plain": [
              "  0%|          | 0/29515 [00:00<?, ?it/s]"
            ],
            "application/vnd.jupyter.widget-view+json": {
              "version_major": 2,
              "version_minor": 0,
              "model_id": "550c2e266608478eb7767d1fed9ca6d8"
            }
          },
          "metadata": {}
        },
        {
          "output_type": "stream",
          "name": "stdout",
          "text": [
            "Extracting ./data/FashionMNIST/FashionMNIST/raw/train-labels-idx1-ubyte.gz to ./data/FashionMNIST/FashionMNIST/raw\n",
            "\n",
            "Downloading http://fashion-mnist.s3-website.eu-central-1.amazonaws.com/t10k-images-idx3-ubyte.gz\n",
            "Downloading http://fashion-mnist.s3-website.eu-central-1.amazonaws.com/t10k-images-idx3-ubyte.gz to ./data/FashionMNIST/FashionMNIST/raw/t10k-images-idx3-ubyte.gz\n"
          ]
        },
        {
          "output_type": "display_data",
          "data": {
            "text/plain": [
              "  0%|          | 0/4422102 [00:00<?, ?it/s]"
            ],
            "application/vnd.jupyter.widget-view+json": {
              "version_major": 2,
              "version_minor": 0,
              "model_id": "de2806f234a747b4b6a3eccb84da797d"
            }
          },
          "metadata": {}
        },
        {
          "output_type": "stream",
          "name": "stdout",
          "text": [
            "Extracting ./data/FashionMNIST/FashionMNIST/raw/t10k-images-idx3-ubyte.gz to ./data/FashionMNIST/FashionMNIST/raw\n",
            "\n",
            "Downloading http://fashion-mnist.s3-website.eu-central-1.amazonaws.com/t10k-labels-idx1-ubyte.gz\n",
            "Downloading http://fashion-mnist.s3-website.eu-central-1.amazonaws.com/t10k-labels-idx1-ubyte.gz to ./data/FashionMNIST/FashionMNIST/raw/t10k-labels-idx1-ubyte.gz\n"
          ]
        },
        {
          "output_type": "display_data",
          "data": {
            "text/plain": [
              "  0%|          | 0/5148 [00:00<?, ?it/s]"
            ],
            "application/vnd.jupyter.widget-view+json": {
              "version_major": 2,
              "version_minor": 0,
              "model_id": "a5399256030e463f8563b3cd1f2d4e1e"
            }
          },
          "metadata": {}
        },
        {
          "output_type": "stream",
          "name": "stdout",
          "text": [
            "Extracting ./data/FashionMNIST/FashionMNIST/raw/t10k-labels-idx1-ubyte.gz to ./data/FashionMNIST/FashionMNIST/raw\n",
            "\n"
          ]
        }
      ],
      "source": [
        "# Use standard FashionMNIST dataset\n",
        "train_set = torchvision.datasets.FashionMNIST(\n",
        "    root = './data/FashionMNIST',\n",
        "    train = True,\n",
        "    download = True,\n",
        "    transform = transforms.Compose([\n",
        "        transforms.ToTensor()                                 \n",
        "    ])\n",
        ")\n",
        "\n",
        "test_set = torchvision.datasets.FashionMNIST(\n",
        "    root = './data/FashionMNIST',\n",
        "    train = False,\n",
        "    download = False,\n",
        "    transform = transforms.Compose([\n",
        "        transforms.ToTensor()                                 \n",
        "    ])\n",
        ")"
      ]
    },
    {
      "cell_type": "markdown",
      "metadata": {
        "id": "mYmzeeyHxDCs"
      },
      "source": [
        "## **A Multi-layer Perceptron**\n",
        "Here I'm defining a network that is a 2-layer multi-layer perceptron (MLP).  "
      ]
    },
    {
      "cell_type": "code",
      "execution_count": null,
      "metadata": {
        "id": "pVhVxfNFwRLd"
      },
      "outputs": [],
      "source": [
        "# Build the neural network, expand on top of nn.Module\n",
        "class MLP(nn.Module):\n",
        "  def __init__(self):\n",
        "    super().__init__()\n",
        "\n",
        "    # define layers\n",
        "    self.fc1 = nn.Linear(in_features=28*28,out_features=200)\n",
        "    self.fc2 = nn.Linear(in_features=200,out_features=10)\n",
        "\n",
        "\n",
        "  # define forward function\n",
        "  def forward(self, t):\n",
        "    # fc 1\n",
        "    t=t.reshape(-1,28*28)\n",
        "    t=self.fc1(t)\n",
        "    t=F.relu(t)\n",
        "\n",
        "    # fc 2\n",
        "    t=self.fc2(t)\n",
        "    # don't need softmax here since we'll use cross-entropy as activation.\n",
        "\n",
        "    return t"
      ]
    },
    {
      "cell_type": "markdown",
      "metadata": {
        "id": "B3leiFA-0eEQ"
      },
      "source": [
        "## **A Convolutional Neural Network** \n",
        "Here's a definition of a Convolutional Neural Network (CNN) with 5x5 filters, and max pooling with a stride of two.\n",
        "\n",
        "![Screen Shot 2022-03-27 at 4.29.23 PM.png](data:image/png;base64,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)"
      ]
    },
    {
      "cell_type": "markdown",
      "metadata": {
        "id": "N2pVayDY0eEV"
      },
      "source": [
        "### **The Actual Construction**\n"
      ]
    },
    {
      "cell_type": "code",
      "source": [
        "class CNN(nn.Module):\n",
        "  def __init__(self):\n",
        "    super().__init__()\n",
        "\n",
        "    # first layer - take 1 channel in (gray scale), output 5 channels, convolve with 5x5 filter\n",
        "    #   then pool by taking a 2x2 maximum pool\n",
        "    self.conv1 = nn.Conv2d(in_channels=1, out_channels=5, kernel_size=(5,5), stride=1, padding=0)\n",
        "    self.pool1 = nn.MaxPool2d(kernel_size=(2,2), stride=(2,2), padding=0)\n",
        "\n",
        "    # second layer - 5 channels in, 10 channels out, 5x5 filter\n",
        "    #   then pool again by taking 2x2 maxpool\n",
        "    self.conv2 = nn.Conv2d(in_channels=5, out_channels=10, kernel_size=(5,5), stride=1, padding=0)\n",
        "    self.pool2 = nn.MaxPool2d(kernel_size=(2,2), stride=(2,2), padding=0)\n",
        "    \n",
        "    # Third layer - project to linear layer\n",
        "    self.fc1 = nn.Linear(in_features=4*4*10,out_features=100)\n",
        "\n",
        "    # fourth layer\n",
        "    self.fc2 = nn.Linear(in_features=100,out_features=50)\n",
        "\n",
        "    # fifth layer\n",
        "    self.fc3 = nn.Linear(in_features=50,out_features=10)\n",
        "\n",
        "\n",
        "  # define forward function\n",
        "  def forward(self, t):\n",
        "    t = self.conv1(t)\n",
        "    t = F.relu(t)    # this is an alternate way of doing nonlinearities, don't have to make it a layer.\n",
        "    t = self.pool1(t)\n",
        "\n",
        "    t = self.conv2(t)\n",
        "    t = F.relu(t)\n",
        "    t = self.pool2(t)\n",
        "\n",
        "    t = torch.flatten(t, start_dim=1)\n",
        "\n",
        "    #Classification\n",
        "    t =self.fc1(t)\n",
        "    t = F.relu(t)\n",
        "    t =self.fc2(t)\n",
        "    t = F.relu(t)\n",
        "    t =self.fc3(t)\n",
        "\n",
        "    # don't need softmax here since we'll use cross-entropy as activation.\n",
        "    return t"
      ],
      "metadata": {
        "id": "m4lGoCJeWdzq"
      },
      "execution_count": null,
      "outputs": []
    },
    {
      "cell_type": "markdown",
      "metadata": {
        "id": "ZzhKnPcSd3RP"
      },
      "source": [
        "## **Accuracy of Prediction**\n",
        "Auxiliary function that reports the accuracy on a dataset."
      ]
    },
    {
      "cell_type": "code",
      "execution_count": null,
      "metadata": {
        "id": "CuKEqezweA_S"
      },
      "outputs": [],
      "source": [
        "def get_accuracy(model,dataloader):\n",
        "  count=0\n",
        "  correct=0\n",
        "\n",
        "  model.eval()\n",
        "  with torch.no_grad():\n",
        "    for batch in dataloader:\n",
        "      images = batch[0]\n",
        "      labels = batch[1]\n",
        "      preds=network(images)\n",
        "      batch_correct=preds.argmax(dim=1).eq(labels).sum().item()\n",
        "      batch_count=len(batch[0])\n",
        "      count+=batch_count\n",
        "      correct+=batch_correct\n",
        "  model.train()\n",
        "  return correct/count"
      ]
    },
    {
      "cell_type": "markdown",
      "source": [
        "## **Training of our novel MLP and CNN Models**"
      ],
      "metadata": {
        "id": "QoVHuLTLhc6y"
      }
    },
    {
      "cell_type": "markdown",
      "metadata": {
        "id": "yIkypu3WdfiV"
      },
      "source": [
        "First, train the MLP for ten epochs - the following code will report training accuracy after each epoch and then give the test set accuracy.\n",
        "\n",
        "After you have done this, try replacing this with the CNN model, and see if it improves or does not improve accuracy. (Note: the CNN trains more slowly - maybe only train for 5 epochs?)"
      ]
    },
    {
      "cell_type": "code",
      "execution_count": null,
      "metadata": {
        "id": "Vq2sgd0sH5mr",
        "colab": {
          "base_uri": "https://localhost:8080/"
        },
        "outputId": "52c68029-54cc-4a1a-a858-889772a422ab"
      },
      "outputs": [
        {
          "output_type": "stream",
          "name": "stdout",
          "text": [
            "Epoch 0: train set accuracy 0.6489333333333334\n",
            "Epoch 1: train set accuracy 0.73815\n",
            "Epoch 2: train set accuracy 0.7676\n",
            "Epoch 3: train set accuracy 0.7879833333333334\n",
            "Epoch 4: train set accuracy 0.8023833333333333\n",
            "Epoch 4: test set accuracy 0.7929\n"
          ]
        }
      ],
      "source": [
        "lr=0.001\n",
        "batch_size=1000\n",
        "shuffle=True\n",
        "epochs= 5\n",
        "#epochs= 10\n",
        "#network = MLP()\n",
        "network = CNN()\n",
        "loader = torch.utils.data.DataLoader(train_set, batch_size = batch_size)\n",
        "optimizer = optim.Adam(network.parameters(), lr=lr)\n",
        "# set the network to training mode\n",
        "network.train()\n",
        "for epoch in range(epochs):\n",
        "  for batch in loader:\n",
        "    images = batch[0]\n",
        "    labels = batch[1]\n",
        "    preds = network(images)\n",
        "    loss = F.cross_entropy(preds, labels)\n",
        "    optimizer.zero_grad()\n",
        "    loss.backward()\n",
        "    optimizer.step()\n",
        "  print('Epoch {0}: train set accuracy {1}'.format(epoch,get_accuracy(network,loader)))\n",
        "test_loader = torch.utils.data.DataLoader(test_set, batch_size = batch_size)\n",
        "print('Epoch {0}: test set accuracy {1}'.format(epoch,get_accuracy(network,test_loader)))\n",
        "\n",
        "\n"
      ]
    },
    {
      "cell_type": "markdown",
      "metadata": {
        "id": "-DajHdY10eEW"
      },
      "source": [
        "## **Experiments**\n",
        "1. At this point, try out different parameters for the different models.  For the MLP, try differen numbers of hidden units, or add a third layer.  For the CNN, add more channels (making sure to fix it both as output of the CNN layer and input to the next layer), or the fully connected layers.  Can you find an architecture that gets a better accuracy?\n",
        "\n",
        "2. Can you inspect the CNN first convolutional layer weights to see if they are doing anything interesting?"
      ]
    },
    {
      "cell_type": "code",
      "execution_count": null,
      "metadata": {
        "id": "sYIpMLD00eEW",
        "colab": {
          "base_uri": "https://localhost:8080/",
          "height": 283
        },
        "outputId": "f69213b8-a42d-4489-8795-db01e72943f0"
      },
      "outputs": [
        {
          "output_type": "execute_result",
          "data": {
            "text/plain": [
              "<matplotlib.image.AxesImage at 0x7ff2f4b2e8e0>"
            ]
          },
          "metadata": {},
          "execution_count": 7
        },
        {
          "output_type": "display_data",
          "data": {
            "text/plain": [
              "<Figure size 432x288 with 1 Axes>"
            ],
            "image/png": "[encoded data removed]"
          },
          "metadata": {
            "needs_background": "light"
          }
        }
      ],
      "source": [
        "import matplotlib.pyplot as plt\n",
        "#filter can range from 0..4\n",
        "filter=4\n",
        "plt.imshow([p for p in network.conv1.parameters()][0][filter].detach().numpy().squeeze())"
      ]
    }
  ],
  "metadata": {
    "accelerator": "GPU",
    "colab": {
      "provenance": [],
      "include_colab_link": true
    },
    "kernelspec": {
      "display_name": "Python 3",
      "name": "python3"
    },
    "language_info": {
      "name": "python"
    },
    "widgets": {
      "application/vnd.jupyter.widget-state+json": {
        "0da047231fbb40fa8f930004d862233f": {
          "model_module": "@jupyter-widgets/controls",
          "model_name": "HBoxModel",
          "model_module_version": "1.5.0",
          "state": {
            "_dom_classes": [],
            "_model_module": "@jupyter-widgets/controls",
            "_model_module_version": "1.5.0",
            "_model_name": "HBoxModel",
            "_view_count": null,
            "_view_module": "@jupyter-widgets/controls",
            "_view_module_version": "1.5.0",
            "_view_name": "HBoxView",
            "box_style": "",
            "children": [
              "IPY_MODEL_701e317db1164421a838193df553c023",
              "IPY_MODEL_120a1077461a47d494ec5bbd649072a5",
              "IPY_MODEL_dcbea38aecf0497fbf503b3d7281213d"
            ],
            "layout": "IPY_MODEL_c21e8700e5624e9e919c42a92f2f53c5"
          }
        },
        "701e317db1164421a838193df553c023": {
          "model_module": "@jupyter-widgets/controls",
          "model_name": "HTMLModel",
          "model_module_version": "1.5.0",
          "state": {
            "_dom_classes": [],
            "_model_module": "@jupyter-widgets/controls",
            "_model_module_version": "1.5.0",
            "_model_name": "HTMLModel",
            "_view_count": null,
            "_view_module": "@jupyter-widgets/controls",
            "_view_module_version": "1.5.0",
            "_view_name": "HTMLView",
            "description": "",
            "description_tooltip": null,
            "layout": "IPY_MODEL_175b56101a624d929f308cabfead7723",
            "placeholder": "​",
            "style": "IPY_MODEL_2d7471664b374023806a658b617ed9e7",
            "value": "100%"
          }
        },
        "120a1077461a47d494ec5bbd649072a5": {
          "model_module": "@jupyter-widgets/controls",
          "model_name": "FloatProgressModel",
          "model_module_version": "1.5.0",
          "state": {
            "_dom_classes": [],
            "_model_module": "@jupyter-widgets/controls",
            "_model_module_version": "1.5.0",
            "_model_name": "FloatProgressModel",
            "_view_count": null,
            "_view_module": "@jupyter-widgets/controls",
            "_view_module_version": "1.5.0",
            "_view_name": "ProgressView",
            "bar_style": "success",
            "description": "",
            "description_tooltip": null,
            "layout": "IPY_MODEL_7cb93672ac9040adae1a11e2a1790e40",
            "max": 26421880,
            "min": 0,
            "orientation": "horizontal",
            "style": "IPY_MODEL_1c74a78f7d804b7e98ab439001d14836",
            "value": 26421880
          }
        },
        "dcbea38aecf0497fbf503b3d7281213d": {
          "model_module": "@jupyter-widgets/controls",
          "model_name": "HTMLModel",
          "model_module_version": "1.5.0",
          "state": {
            "_dom_classes": [],
            "_model_module": "@jupyter-widgets/controls",
            "_model_module_version": "1.5.0",
            "_model_name": "HTMLModel",
            "_view_count": null,
            "_view_module": "@jupyter-widgets/controls",
            "_view_module_version": "1.5.0",
            "_view_name": "HTMLView",
            "description": "",
            "description_tooltip": null,
            "layout": "IPY_MODEL_fa51ddd1245c4680b10d19dee6f6f416",
            "placeholder": "​",
            "style": "IPY_MODEL_14e7c2d5707b493a9d1349066abb89ec",
            "value": " 26421880/26421880 [00:03&lt;00:00, 13652461.51it/s]"
          }
        },
        "c21e8700e5624e9e919c42a92f2f53c5": {
          "model_module": "@jupyter-widgets/base",
          "model_name": "LayoutModel",
          "model_module_version": "1.2.0",
          "state": {
            "_model_module": "@jupyter-widgets/base",
            "_model_module_version": "1.2.0",
            "_model_name": "LayoutModel",
            "_view_count": null,
            "_view_module": "@jupyter-widgets/base",
            "_view_module_version": "1.2.0",
            "_view_name": "LayoutView",
            "align_content": null,
            "align_items": null,
            "align_self": null,
            "border": null,
            "bottom": null,
            "display": null,
            "flex": null,
            "flex_flow": null,
            "grid_area": null,
            "grid_auto_columns": null,
            "grid_auto_flow": null,
            "grid_auto_rows": null,
            "grid_column": null,
            "grid_gap": null,
            "grid_row": null,
            "grid_template_areas": null,
            "grid_template_columns": null,
            "grid_template_rows": null,
            "height": null,
            "justify_content": null,
            "justify_items": null,
            "left": null,
            "margin": null,
            "max_height": null,
            "max_width": null,
            "min_height": null,
            "min_width": null,
            "object_fit": null,
            "object_position": null,
            "order": null,
            "overflow": null,
            "overflow_x": null,
            "overflow_y": null,
            "padding": null,
            "right": null,
            "top": null,
            "visibility": null,
            "width": null
          }
        },
        "175b56101a624d929f308cabfead7723": {
          "model_module": "@jupyter-widgets/base",
          "model_name": "LayoutModel",
          "model_module_version": "1.2.0",
          "state": {
            "_model_module": "@jupyter-widgets/base",
            "_model_module_version": "1.2.0",
            "_model_name": "LayoutModel",
            "_view_count": null,
            "_view_module": "@jupyter-widgets/base",
            "_view_module_version": "1.2.0",
            "_view_name": "LayoutView",
            "align_content": null,
            "align_items": null,
            "align_self": null,
            "border": null,
            "bottom": null,
            "display": null,
            "flex": null,
            "flex_flow": null,
            "grid_area": null,
            "grid_auto_columns": null,
            "grid_auto_flow": null,
            "grid_auto_rows": null,
            "grid_column": null,
            "grid_gap": null,
            "grid_row": null,
            "grid_template_areas": null,
            "grid_template_columns": null,
            "grid_template_rows": null,
            "height": null,
            "justify_content": null,
            "justify_items": null,
            "left": null,
            "margin": null,
            "max_height": null,
            "max_width": null,
            "min_height": null,
            "min_width": null,
            "object_fit": null,
            "object_position": null,
            "order": null,
            "overflow": null,
            "overflow_x": null,
            "overflow_y": null,
            "padding": null,
            "right": null,
            "top": null,
            "visibility": null,
            "width": null
          }
        },
        "2d7471664b374023806a658b617ed9e7": {
          "model_module": "@jupyter-widgets/controls",
          "model_name": "DescriptionStyleModel",
          "model_module_version": "1.5.0",
          "state": {
            "_model_module": "@jupyter-widgets/controls",
            "_model_module_version": "1.5.0",
            "_model_name": "DescriptionStyleModel",
            "_view_count": null,
            "_view_module": "@jupyter-widgets/base",
            "_view_module_version": "1.2.0",
            "_view_name": "StyleView",
            "description_width": ""
          }
        },
        "7cb93672ac9040adae1a11e2a1790e40": {
          "model_module": "@jupyter-widgets/base",
          "model_name": "LayoutModel",
          "model_module_version": "1.2.0",
          "state": {
            "_model_module": "@jupyter-widgets/base",
            "_model_module_version": "1.2.0",
            "_model_name": "LayoutModel",
            "_view_count": null,
            "_view_module": "@jupyter-widgets/base",
            "_view_module_version": "1.2.0",
            "_view_name": "LayoutView",
            "align_content": null,
            "align_items": null,
            "align_self": null,
            "border": null,
            "bottom": null,
            "display": null,
            "flex": null,
            "flex_flow": null,
            "grid_area": null,
            "grid_auto_columns": null,
            "grid_auto_flow": null,
            "grid_auto_rows": null,
            "grid_column": null,
            "grid_gap": null,
            "grid_row": null,
            "grid_template_areas": null,
            "grid_template_columns": null,
            "grid_template_rows": null,
            "height": null,
            "justify_content": null,
            "justify_items": null,
            "left": null,
            "margin": null,
            "max_height": null,
            "max_width": null,
            "min_height": null,
            "min_width": null,
            "object_fit": null,
            "object_position": null,
            "order": null,
            "overflow": null,
            "overflow_x": null,
            "overflow_y": null,
            "padding": null,
            "right": null,
            "top": null,
            "visibility": null,
            "width": null
          }
        },
        "1c74a78f7d804b7e98ab439001d14836": {
          "model_module": "@jupyter-widgets/controls",
          "model_name": "ProgressStyleModel",
          "model_module_version": "1.5.0",
          "state": {
            "_model_module": "@jupyter-widgets/controls",
            "_model_module_version": "1.5.0",
            "_model_name": "ProgressStyleModel",
            "_view_count": null,
            "_view_module": "@jupyter-widgets/base",
            "_view_module_version": "1.2.0",
            "_view_name": "StyleView",
            "bar_color": null,
            "description_width": ""
          }
        },
        "fa51ddd1245c4680b10d19dee6f6f416": {
          "model_module": "@jupyter-widgets/base",
          "model_name": "LayoutModel",
          "model_module_version": "1.2.0",
          "state": {
            "_model_module": "@jupyter-widgets/base",
            "_model_module_version": "1.2.0",
            "_model_name": "LayoutModel",
            "_view_count": null,
            "_view_module": "@jupyter-widgets/base",
            "_view_module_version": "1.2.0",
            "_view_name": "LayoutView",
            "align_content": null,
            "align_items": null,
            "align_self": null,
            "border": null,
            "bottom": null,
            "display": null,
            "flex": null,
            "flex_flow": null,
            "grid_area": null,
            "grid_auto_columns": null,
            "grid_auto_flow": null,
            "grid_auto_rows": null,
            "grid_column": null,
            "grid_gap": null,
            "grid_row": null,
            "grid_template_areas": null,
            "grid_template_columns": null,
            "grid_template_rows": null,
            "height": null,
            "justify_content": null,
            "justify_items": null,
            "left": null,
            "margin": null,
            "max_height": null,
            "max_width": null,
            "min_height": null,
            "min_width": null,
            "object_fit": null,
            "object_position": null,
            "order": null,
            "overflow": null,
            "overflow_x": null,
            "overflow_y": null,
            "padding": null,
            "right": null,
            "top": null,
            "visibility": null,
            "width": null
          }
        },
        "14e7c2d5707b493a9d1349066abb89ec": {
          "model_module": "@jupyter-widgets/controls",
          "model_name": "DescriptionStyleModel",
          "model_module_version": "1.5.0",
          "state": {
            "_model_module": "@jupyter-widgets/controls",
            "_model_module_version": "1.5.0",
            "_model_name": "DescriptionStyleModel",
            "_view_count": null,
            "_view_module": "@jupyter-widgets/base",
            "_view_module_version": "1.2.0",
            "_view_name": "StyleView",
            "description_width": ""
          }
        },
        "550c2e266608478eb7767d1fed9ca6d8": {
          "model_module": "@jupyter-widgets/controls",
          "model_name": "HBoxModel",
          "model_module_version": "1.5.0",
          "state": {
            "_dom_classes": [],
            "_model_module": "@jupyter-widgets/controls",
            "_model_module_version": "1.5.0",
            "_model_name": "HBoxModel",
            "_view_count": null,
            "_view_module": "@jupyter-widgets/controls",
            "_view_module_version": "1.5.0",
            "_view_name": "HBoxView",
            "box_style": "",
            "children": [
              "IPY_MODEL_d447804e1d114921bfda76f3b785a620",
              "IPY_MODEL_33052c2ccfc44764bcd14dca0b9e1259",
              "IPY_MODEL_483fc46cca2b4490a5059cba2c00eb33"
            ],
            "layout": "IPY_MODEL_5daa440b6f5f448c962f917674ea2702"
          }
        },
        "d447804e1d114921bfda76f3b785a620": {
          "model_module": "@jupyter-widgets/controls",
          "model_name": "HTMLModel",
          "model_module_version": "1.5.0",
          "state": {
            "_dom_classes": [],
            "_model_module": "@jupyter-widgets/controls",
            "_model_module_version": "1.5.0",
            "_model_name": "HTMLModel",
            "_view_count": null,
            "_view_module": "@jupyter-widgets/controls",
            "_view_module_version": "1.5.0",
            "_view_name": "HTMLView",
            "description": "",
            "description_tooltip": null,
            "layout": "IPY_MODEL_9abb4036b4a140f48c7487b60d1a96b8",
            "placeholder": "​",
            "style": "IPY_MODEL_e37e1ccf1626418b92aad8b5a8a3762e",
            "value": "100%"
          }
        },
        "33052c2ccfc44764bcd14dca0b9e1259": {
          "model_module": "@jupyter-widgets/controls",
          "model_name": "FloatProgressModel",
          "model_module_version": "1.5.0",
          "state": {
            "_dom_classes": [],
            "_model_module": "@jupyter-widgets/controls",
            "_model_module_version": "1.5.0",
            "_model_name": "FloatProgressModel",
            "_view_count": null,
            "_view_module": "@jupyter-widgets/controls",
            "_view_module_version": "1.5.0",
            "_view_name": "ProgressView",
            "bar_style": "success",
            "description": "",
            "description_tooltip": null,
            "layout": "IPY_MODEL_3d73b3c4dc24457d9a60136a4066cd17",
            "max": 29515,
            "min": 0,
            "orientation": "horizontal",
            "style": "IPY_MODEL_9a22eed819af4426923e3f7c7a31982f",
            "value": 29515
          }
        },
        "483fc46cca2b4490a5059cba2c00eb33": {
          "model_module": "@jupyter-widgets/controls",
          "model_name": "HTMLModel",
          "model_module_version": "1.5.0",
          "state": {
            "_dom_classes": [],
            "_model_module": "@jupyter-widgets/controls",
            "_model_module_version": "1.5.0",
            "_model_name": "HTMLModel",
            "_view_count": null,
            "_view_module": "@jupyter-widgets/controls",
            "_view_module_version": "1.5.0",
            "_view_name": "HTMLView",
            "description": "",
            "description_tooltip": null,
            "layout": "IPY_MODEL_717da1f21ce84c44a53e40e85332abd4",
            "placeholder": "​",
            "style": "IPY_MODEL_e2b958b761d44a0e97aed8e65586cd9d",
            "value": " 29515/29515 [00:00&lt;00:00, 146166.55it/s]"
          }
        },
        "5daa440b6f5f448c962f917674ea2702": {
          "model_module": "@jupyter-widgets/base",
          "model_name": "LayoutModel",
          "model_module_version": "1.2.0",
          "state": {
            "_model_module": "@jupyter-widgets/base",
            "_model_module_version": "1.2.0",
            "_model_name": "LayoutModel",
            "_view_count": null,
            "_view_module": "@jupyter-widgets/base",
            "_view_module_version": "1.2.0",
            "_view_name": "LayoutView",
            "align_content": null,
            "align_items": null,
            "align_self": null,
            "border": null,
            "bottom": null,
            "display": null,
            "flex": null,
            "flex_flow": null,
            "grid_area": null,
            "grid_auto_columns": null,
            "grid_auto_flow": null,
            "grid_auto_rows": null,
            "grid_column": null,
            "grid_gap": null,
            "grid_row": null,
            "grid_template_areas": null,
            "grid_template_columns": null,
            "grid_template_rows": null,
            "height": null,
            "justify_content": null,
            "justify_items": null,
            "left": null,
            "margin": null,
            "max_height": null,
            "max_width": null,
            "min_height": null,
            "min_width": null,
            "object_fit": null,
            "object_position": null,
            "order": null,
            "overflow": null,
            "overflow_x": null,
            "overflow_y": null,
            "padding": null,
            "right": null,
            "top": null,
            "visibility": null,
            "width": null
          }
        },
        "9abb4036b4a140f48c7487b60d1a96b8": {
          "model_module": "@jupyter-widgets/base",
          "model_name": "LayoutModel",
          "model_module_version": "1.2.0",
          "state": {
            "_model_module": "@jupyter-widgets/base",
            "_model_module_version": "1.2.0",
            "_model_name": "LayoutModel",
            "_view_count": null,
            "_view_module": "@jupyter-widgets/base",
            "_view_module_version": "1.2.0",
            "_view_name": "LayoutView",
            "align_content": null,
            "align_items": null,
            "align_self": null,
            "border": null,
            "bottom": null,
            "display": null,
            "flex": null,
            "flex_flow": null,
            "grid_area": null,
            "grid_auto_columns": null,
            "grid_auto_flow": null,
            "grid_auto_rows": null,
            "grid_column": null,
            "grid_gap": null,
            "grid_row": null,
            "grid_template_areas": null,
            "grid_template_columns": null,
            "grid_template_rows": null,
            "height": null,
            "justify_content": null,
            "justify_items": null,
            "left": null,
            "margin": null,
            "max_height": null,
            "max_width": null,
            "min_height": null,
            "min_width": null,
            "object_fit": null,
            "object_position": null,
            "order": null,
            "overflow": null,
            "overflow_x": null,
            "overflow_y": null,
            "padding": null,
            "right": null,
            "top": null,
            "visibility": null,
            "width": null
          }
        },
        "e37e1ccf1626418b92aad8b5a8a3762e": {
          "model_module": "@jupyter-widgets/controls",
          "model_name": "DescriptionStyleModel",
          "model_module_version": "1.5.0",
          "state": {
            "_model_module": "@jupyter-widgets/controls",
            "_model_module_version": "1.5.0",
            "_model_name": "DescriptionStyleModel",
            "_view_count": null,
            "_view_module": "@jupyter-widgets/base",
            "_view_module_version": "1.2.0",
            "_view_name": "StyleView",
            "description_width": ""
          }
        },
        "3d73b3c4dc24457d9a60136a4066cd17": {
          "model_module": "@jupyter-widgets/base",
          "model_name": "LayoutModel",
          "model_module_version": "1.2.0",
          "state": {
            "_model_module": "@jupyter-widgets/base",
            "_model_module_version": "1.2.0",
            "_model_name": "LayoutModel",
            "_view_count": null,
            "_view_module": "@jupyter-widgets/base",
            "_view_module_version": "1.2.0",
            "_view_name": "LayoutView",
            "align_content": null,
            "align_items": null,
            "align_self": null,
            "border": null,
            "bottom": null,
            "display": null,
            "flex": null,
            "flex_flow": null,
            "grid_area": null,
            "grid_auto_columns": null,
            "grid_auto_flow": null,
            "grid_auto_rows": null,
            "grid_column": null,
            "grid_gap": null,
            "grid_row": null,
            "grid_template_areas": null,
            "grid_template_columns": null,
            "grid_template_rows": null,
            "height": null,
            "justify_content": null,
            "justify_items": null,
            "left": null,
            "margin": null,
            "max_height": null,
            "max_width": null,
            "min_height": null,
            "min_width": null,
            "object_fit": null,
            "object_position": null,
            "order": null,
            "overflow": null,
            "overflow_x": null,
            "overflow_y": null,
            "padding": null,
            "right": null,
            "top": null,
            "visibility": null,
            "width": null
          }
        },
        "9a22eed819af4426923e3f7c7a31982f": {
          "model_module": "@jupyter-widgets/controls",
          "model_name": "ProgressStyleModel",
          "model_module_version": "1.5.0",
          "state": {
            "_model_module": "@jupyter-widgets/controls",
            "_model_module_version": "1.5.0",
            "_model_name": "ProgressStyleModel",
            "_view_count": null,
            "_view_module": "@jupyter-widgets/base",
            "_view_module_version": "1.2.0",
            "_view_name": "StyleView",
            "bar_color": null,
            "description_width": ""
          }
        },
        "717da1f21ce84c44a53e40e85332abd4": {
          "model_module": "@jupyter-widgets/base",
          "model_name": "LayoutModel",
          "model_module_version": "1.2.0",
          "state": {
            "_model_module": "@jupyter-widgets/base",
            "_model_module_version": "1.2.0",
            "_model_name": "LayoutModel",
            "_view_count": null,
            "_view_module": "@jupyter-widgets/base",
            "_view_module_version": "1.2.0",
            "_view_name": "LayoutView",
            "align_content": null,
            "align_items": null,
            "align_self": null,
            "border": null,
            "bottom": null,
            "display": null,
            "flex": null,
            "flex_flow": null,
            "grid_area": null,
            "grid_auto_columns": null,
            "grid_auto_flow": null,
            "grid_auto_rows": null,
            "grid_column": null,
            "grid_gap": null,
            "grid_row": null,
            "grid_template_areas": null,
            "grid_template_columns": null,
            "grid_template_rows": null,
            "height": null,
            "justify_content": null,
            "justify_items": null,
            "left": null,
            "margin": null,
            "max_height": null,
            "max_width": null,
            "min_height": null,
            "min_width": null,
            "object_fit": null,
            "object_position": null,
            "order": null,
            "overflow": null,
            "overflow_x": null,
            "overflow_y": null,
            "padding": null,
            "right": null,
            "top": null,
            "visibility": null,
            "width": null
          }
        },
        "e2b958b761d44a0e97aed8e65586cd9d": {
          "model_module": "@jupyter-widgets/controls",
          "model_name": "DescriptionStyleModel",
          "model_module_version": "1.5.0",
          "state": {
            "_model_module": "@jupyter-widgets/controls",
            "_model_module_version": "1.5.0",
            "_model_name": "DescriptionStyleModel",
            "_view_count": null,
            "_view_module": "@jupyter-widgets/base",
            "_view_module_version": "1.2.0",
            "_view_name": "StyleView",
            "description_width": ""
          }
        },
        "de2806f234a747b4b6a3eccb84da797d": {
          "model_module": "@jupyter-widgets/controls",
          "model_name": "HBoxModel",
          "model_module_version": "1.5.0",
          "state": {
            "_dom_classes": [],
            "_model_module": "@jupyter-widgets/controls",
            "_model_module_version": "1.5.0",
            "_model_name": "HBoxModel",
            "_view_count": null,
            "_view_module": "@jupyter-widgets/controls",
            "_view_module_version": "1.5.0",
            "_view_name": "HBoxView",
            "box_style": "",
            "children": [
              "IPY_MODEL_6703e40062764898a82f6950bb619388",
              "IPY_MODEL_ec238ec0183546f09e5bbfbd62deab5c",
              "IPY_MODEL_41c55d514efe4c2db607a94eb7be12e5"
            ],
            "layout": "IPY_MODEL_c3a6a96653fc4f14b078f2f56bdbb447"
          }
        },
        "6703e40062764898a82f6950bb619388": {
          "model_module": "@jupyter-widgets/controls",
          "model_name": "HTMLModel",
          "model_module_version": "1.5.0",
          "state": {
            "_dom_classes": [],
            "_model_module": "@jupyter-widgets/controls",
            "_model_module_version": "1.5.0",
            "_model_name": "HTMLModel",
            "_view_count": null,
            "_view_module": "@jupyter-widgets/controls",
            "_view_module_version": "1.5.0",
            "_view_name": "HTMLView",
            "description": "",
            "description_tooltip": null,
            "layout": "IPY_MODEL_71b089aa471b434b86fe09e6e2873c33",
            "placeholder": "​",
            "style": "IPY_MODEL_36571280c1524da0955444219e5fb319",
            "value": "100%"
          }
        },
        "ec238ec0183546f09e5bbfbd62deab5c": {
          "model_module": "@jupyter-widgets/controls",
          "model_name": "FloatProgressModel",
          "model_module_version": "1.5.0",
          "state": {
            "_dom_classes": [],
            "_model_module": "@jupyter-widgets/controls",
            "_model_module_version": "1.5.0",
            "_model_name": "FloatProgressModel",
            "_view_count": null,
            "_view_module": "@jupyter-widgets/controls",
            "_view_module_version": "1.5.0",
            "_view_name": "ProgressView",
            "bar_style": "success",
            "description": "",
            "description_tooltip": null,
            "layout": "IPY_MODEL_d03b28fe015d4de5b092e133a717c584",
            "max": 4422102,
            "min": 0,
            "orientation": "horizontal",
            "style": "IPY_MODEL_433f0490b7574deeb905eeb23c939681",
            "value": 4422102
          }
        },
        "41c55d514efe4c2db607a94eb7be12e5": {
          "model_module": "@jupyter-widgets/controls",
          "model_name": "HTMLModel",
          "model_module_version": "1.5.0",
          "state": {
            "_dom_classes": [],
            "_model_module": "@jupyter-widgets/controls",
            "_model_module_version": "1.5.0",
            "_model_name": "HTMLModel",
            "_view_count": null,
            "_view_module": "@jupyter-widgets/controls",
            "_view_module_version": "1.5.0",
            "_view_name": "HTMLView",
            "description": "",
            "description_tooltip": null,
            "layout": "IPY_MODEL_e301787ba633418f894430907a95244e",
            "placeholder": "​",
            "style": "IPY_MODEL_27deee4df2be49c78786b0d835fd0031",
            "value": " 4422102/4422102 [00:01&lt;00:00, 4481916.88it/s]"
          }
        },
        "c3a6a96653fc4f14b078f2f56bdbb447": {
          "model_module": "@jupyter-widgets/base",
          "model_name": "LayoutModel",
          "model_module_version": "1.2.0",
          "state": {
            "_model_module": "@jupyter-widgets/base",
            "_model_module_version": "1.2.0",
            "_model_name": "LayoutModel",
            "_view_count": null,
            "_view_module": "@jupyter-widgets/base",
            "_view_module_version": "1.2.0",
            "_view_name": "LayoutView",
            "align_content": null,
            "align_items": null,
            "align_self": null,
            "border": null,
            "bottom": null,
            "display": null,
            "flex": null,
            "flex_flow": null,
            "grid_area": null,
            "grid_auto_columns": null,
            "grid_auto_flow": null,
            "grid_auto_rows": null,
            "grid_column": null,
            "grid_gap": null,
            "grid_row": null,
            "grid_template_areas": null,
            "grid_template_columns": null,
            "grid_template_rows": null,
            "height": null,
            "justify_content": null,
            "justify_items": null,
            "left": null,
            "margin": null,
            "max_height": null,
            "max_width": null,
            "min_height": null,
            "min_width": null,
            "object_fit": null,
            "object_position": null,
            "order": null,
            "overflow": null,
            "overflow_x": null,
            "overflow_y": null,
            "padding": null,
            "right": null,
            "top": null,
            "visibility": null,
            "width": null
          }
        },
        "71b089aa471b434b86fe09e6e2873c33": {
          "model_module": "@jupyter-widgets/base",
          "model_name": "LayoutModel",
          "model_module_version": "1.2.0",
          "state": {
            "_model_module": "@jupyter-widgets/base",
            "_model_module_version": "1.2.0",
            "_model_name": "LayoutModel",
            "_view_count": null,
            "_view_module": "@jupyter-widgets/base",
            "_view_module_version": "1.2.0",
            "_view_name": "LayoutView",
            "align_content": null,
            "align_items": null,
            "align_self": null,
            "border": null,
            "bottom": null,
            "display": null,
            "flex": null,
            "flex_flow": null,
            "grid_area": null,
            "grid_auto_columns": null,
            "grid_auto_flow": null,
            "grid_auto_rows": null,
            "grid_column": null,
            "grid_gap": null,
            "grid_row": null,
            "grid_template_areas": null,
            "grid_template_columns": null,
            "grid_template_rows": null,
            "height": null,
            "justify_content": null,
            "justify_items": null,
            "left": null,
            "margin": null,
            "max_height": null,
            "max_width": null,
            "min_height": null,
            "min_width": null,
            "object_fit": null,
            "object_position": null,
            "order": null,
            "overflow": null,
            "overflow_x": null,
            "overflow_y": null,
            "padding": null,
            "right": null,
            "top": null,
            "visibility": null,
            "width": null
          }
        },
        "36571280c1524da0955444219e5fb319": {
          "model_module": "@jupyter-widgets/controls",
          "model_name": "DescriptionStyleModel",
          "model_module_version": "1.5.0",
          "state": {
            "_model_module": "@jupyter-widgets/controls",
            "_model_module_version": "1.5.0",
            "_model_name": "DescriptionStyleModel",
            "_view_count": null,
            "_view_module": "@jupyter-widgets/base",
            "_view_module_version": "1.2.0",
            "_view_name": "StyleView",
            "description_width": ""
          }
        },
        "d03b28fe015d4de5b092e133a717c584": {
          "model_module": "@jupyter-widgets/base",
          "model_name": "LayoutModel",
          "model_module_version": "1.2.0",
          "state": {
            "_model_module": "@jupyter-widgets/base",
            "_model_module_version": "1.2.0",
            "_model_name": "LayoutModel",
            "_view_count": null,
            "_view_module": "@jupyter-widgets/base",
            "_view_module_version": "1.2.0",
            "_view_name": "LayoutView",
            "align_content": null,
            "align_items": null,
            "align_self": null,
            "border": null,
            "bottom": null,
            "display": null,
            "flex": null,
            "flex_flow": null,
            "grid_area": null,
            "grid_auto_columns": null,
            "grid_auto_flow": null,
            "grid_auto_rows": null,
            "grid_column": null,
            "grid_gap": null,
            "grid_row": null,
            "grid_template_areas": null,
            "grid_template_columns": null,
            "grid_template_rows": null,
            "height": null,
            "justify_content": null,
            "justify_items": null,
            "left": null,
            "margin": null,
            "max_height": null,
            "max_width": null,
            "min_height": null,
            "min_width": null,
            "object_fit": null,
            "object_position": null,
            "order": null,
            "overflow": null,
            "overflow_x": null,
            "overflow_y": null,
            "padding": null,
            "right": null,
            "top": null,
            "visibility": null,
            "width": null
          }
        },
        "433f0490b7574deeb905eeb23c939681": {
          "model_module": "@jupyter-widgets/controls",
          "model_name": "ProgressStyleModel",
          "model_module_version": "1.5.0",
          "state": {
            "_model_module": "@jupyter-widgets/controls",
            "_model_module_version": "1.5.0",
            "_model_name": "ProgressStyleModel",
            "_view_count": null,
            "_view_module": "@jupyter-widgets/base",
            "_view_module_version": "1.2.0",
            "_view_name": "StyleView",
            "bar_color": null,
            "description_width": ""
          }
        },
        "e301787ba633418f894430907a95244e": {
          "model_module": "@jupyter-widgets/base",
          "model_name": "LayoutModel",
          "model_module_version": "1.2.0",
          "state": {
            "_model_module": "@jupyter-widgets/base",
            "_model_module_version": "1.2.0",
            "_model_name": "LayoutModel",
            "_view_count": null,
            "_view_module": "@jupyter-widgets/base",
            "_view_module_version": "1.2.0",
            "_view_name": "LayoutView",
            "align_content": null,
            "align_items": null,
            "align_self": null,
            "border": null,
            "bottom": null,
            "display": null,
            "flex": null,
            "flex_flow": null,
            "grid_area": null,
            "grid_auto_columns": null,
            "grid_auto_flow": null,
            "grid_auto_rows": null,
            "grid_column": null,
            "grid_gap": null,
            "grid_row": null,
            "grid_template_areas": null,
            "grid_template_columns": null,
            "grid_template_rows": null,
            "height": null,
            "justify_content": null,
            "justify_items": null,
            "left": null,
            "margin": null,
            "max_height": null,
            "max_width": null,
            "min_height": null,
            "min_width": null,
            "object_fit": null,
            "object_position": null,
            "order": null,
            "overflow": null,
            "overflow_x": null,
            "overflow_y": null,
            "padding": null,
            "right": null,
            "top": null,
            "visibility": null,
            "width": null
          }
        },
        "27deee4df2be49c78786b0d835fd0031": {
          "model_module": "@jupyter-widgets/controls",
          "model_name": "DescriptionStyleModel",
          "model_module_version": "1.5.0",
          "state": {
            "_model_module": "@jupyter-widgets/controls",
            "_model_module_version": "1.5.0",
            "_model_name": "DescriptionStyleModel",
            "_view_count": null,
            "_view_module": "@jupyter-widgets/base",
            "_view_module_version": "1.2.0",
            "_view_name": "StyleView",
            "description_width": ""
          }
        },
        "a5399256030e463f8563b3cd1f2d4e1e": {
          "model_module": "@jupyter-widgets/controls",
          "model_name": "HBoxModel",
          "model_module_version": "1.5.0",
          "state": {
            "_dom_classes": [],
            "_model_module": "@jupyter-widgets/controls",
            "_model_module_version": "1.5.0",
            "_model_name": "HBoxModel",
            "_view_count": null,
            "_view_module": "@jupyter-widgets/controls",
            "_view_module_version": "1.5.0",
            "_view_name": "HBoxView",
            "box_style": "",
            "children": [
              "IPY_MODEL_cd1460830ac04314bc5a67c0e3c85bda",
              "IPY_MODEL_dc51ca9e3f6f4054838efb7f44468a7c",
              "IPY_MODEL_d5e45309f78b4d90a1a2b1baab05b2e7"
            ],
            "layout": "IPY_MODEL_6ac455a9196046eb978cee58b39db0d2"
          }
        },
        "cd1460830ac04314bc5a67c0e3c85bda": {
          "model_module": "@jupyter-widgets/controls",
          "model_name": "HTMLModel",
          "model_module_version": "1.5.0",
          "state": {
            "_dom_classes": [],
            "_model_module": "@jupyter-widgets/controls",
            "_model_module_version": "1.5.0",
            "_model_name": "HTMLModel",
            "_view_count": null,
            "_view_module": "@jupyter-widgets/controls",
            "_view_module_version": "1.5.0",
            "_view_name": "HTMLView",
            "description": "",
            "description_tooltip": null,
            "layout": "IPY_MODEL_eca30d640ee1427394e76386e4ff75c7",
            "placeholder": "​",
            "style": "IPY_MODEL_10e5ea68e51641bba9705cccfe041276",
            "value": "100%"
          }
        },
        "dc51ca9e3f6f4054838efb7f44468a7c": {
          "model_module": "@jupyter-widgets/controls",
          "model_name": "FloatProgressModel",
          "model_module_version": "1.5.0",
          "state": {
            "_dom_classes": [],
            "_model_module": "@jupyter-widgets/controls",
            "_model_module_version": "1.5.0",
            "_model_name": "FloatProgressModel",
            "_view_count": null,
            "_view_module": "@jupyter-widgets/controls",
            "_view_module_version": "1.5.0",
            "_view_name": "ProgressView",
            "bar_style": "success",
            "description": "",
            "description_tooltip": null,
            "layout": "IPY_MODEL_e39508c2e8164789aa4fdeb25ffc378c",
            "max": 5148,
            "min": 0,
            "orientation": "horizontal",
            "style": "IPY_MODEL_66c6e188f381436783e4e949adb17953",
            "value": 5148
          }
        },
        "d5e45309f78b4d90a1a2b1baab05b2e7": {
          "model_module": "@jupyter-widgets/controls",
          "model_name": "HTMLModel",
          "model_module_version": "1.5.0",
          "state": {
            "_dom_classes": [],
            "_model_module": "@jupyter-widgets/controls",
            "_model_module_version": "1.5.0",
            "_model_name": "HTMLModel",
            "_view_count": null,
            "_view_module": "@jupyter-widgets/controls",
            "_view_module_version": "1.5.0",
            "_view_name": "HTMLView",
            "description": "",
            "description_tooltip": null,
            "layout": "IPY_MODEL_797dbd7bfefb47978cc5a523bf7a4180",
            "placeholder": "​",
            "style": "IPY_MODEL_3d3dd859d89d4b0eaa227d18cac7bd72",
            "value": " 5148/5148 [00:00&lt;00:00, 64097.53it/s]"
          }
        },
        "6ac455a9196046eb978cee58b39db0d2": {
          "model_module": "@jupyter-widgets/base",
          "model_name": "LayoutModel",
          "model_module_version": "1.2.0",
          "state": {
            "_model_module": "@jupyter-widgets/base",
            "_model_module_version": "1.2.0",
            "_model_name": "LayoutModel",
            "_view_count": null,
            "_view_module": "@jupyter-widgets/base",
            "_view_module_version": "1.2.0",
            "_view_name": "LayoutView",
            "align_content": null,
            "align_items": null,
            "align_self": null,
            "border": null,
            "bottom": null,
            "display": null,
            "flex": null,
            "flex_flow": null,
            "grid_area": null,
            "grid_auto_columns": null,
            "grid_auto_flow": null,
            "grid_auto_rows": null,
            "grid_column": null,
            "grid_gap": null,
            "grid_row": null,
            "grid_template_areas": null,
            "grid_template_columns": null,
            "grid_template_rows": null,
            "height": null,
            "justify_content": null,
            "justify_items": null,
            "left": null,
            "margin": null,
            "max_height": null,
            "max_width": null,
            "min_height": null,
            "min_width": null,
            "object_fit": null,
            "object_position": null,
            "order": null,
            "overflow": null,
            "overflow_x": null,
            "overflow_y": null,
            "padding": null,
            "right": null,
            "top": null,
            "visibility": null,
            "width": null
          }
        },
        "eca30d640ee1427394e76386e4ff75c7": {
          "model_module": "@jupyter-widgets/base",
          "model_name": "LayoutModel",
          "model_module_version": "1.2.0",
          "state": {
            "_model_module": "@jupyter-widgets/base",
            "_model_module_version": "1.2.0",
            "_model_name": "LayoutModel",
            "_view_count": null,
            "_view_module": "@jupyter-widgets/base",
            "_view_module_version": "1.2.0",
            "_view_name": "LayoutView",
            "align_content": null,
            "align_items": null,
            "align_self": null,
            "border": null,
            "bottom": null,
            "display": null,
            "flex": null,
            "flex_flow": null,
            "grid_area": null,
            "grid_auto_columns": null,
            "grid_auto_flow": null,
            "grid_auto_rows": null,
            "grid_column": null,
            "grid_gap": null,
            "grid_row": null,
            "grid_template_areas": null,
            "grid_template_columns": null,
            "grid_template_rows": null,
            "height": null,
            "justify_content": null,
            "justify_items": null,
            "left": null,
            "margin": null,
            "max_height": null,
            "max_width": null,
            "min_height": null,
            "min_width": null,
            "object_fit": null,
            "object_position": null,
            "order": null,
            "overflow": null,
            "overflow_x": null,
            "overflow_y": null,
            "padding": null,
            "right": null,
            "top": null,
            "visibility": null,
            "width": null
          }
        },
        "10e5ea68e51641bba9705cccfe041276": {
          "model_module": "@jupyter-widgets/controls",
          "model_name": "DescriptionStyleModel",
          "model_module_version": "1.5.0",
          "state": {
            "_model_module": "@jupyter-widgets/controls",
            "_model_module_version": "1.5.0",
            "_model_name": "DescriptionStyleModel",
            "_view_count": null,
            "_view_module": "@jupyter-widgets/base",
            "_view_module_version": "1.2.0",
            "_view_name": "StyleView",
            "description_width": ""
          }
        },
        "e39508c2e8164789aa4fdeb25ffc378c": {
          "model_module": "@jupyter-widgets/base",
          "model_name": "LayoutModel",
          "model_module_version": "1.2.0",
          "state": {
            "_model_module": "@jupyter-widgets/base",
            "_model_module_version": "1.2.0",
            "_model_name": "LayoutModel",
            "_view_count": null,
            "_view_module": "@jupyter-widgets/base",
            "_view_module_version": "1.2.0",
            "_view_name": "LayoutView",
            "align_content": null,
            "align_items": null,
            "align_self": null,
            "border": null,
            "bottom": null,
            "display": null,
            "flex": null,
            "flex_flow": null,
            "grid_area": null,
            "grid_auto_columns": null,
            "grid_auto_flow": null,
            "grid_auto_rows": null,
            "grid_column": null,
            "grid_gap": null,
            "grid_row": null,
            "grid_template_areas": null,
            "grid_template_columns": null,
            "grid_template_rows": null,
            "height": null,
            "justify_content": null,
            "justify_items": null,
            "left": null,
            "margin": null,
            "max_height": null,
            "max_width": null,
            "min_height": null,
            "min_width": null,
            "object_fit": null,
            "object_position": null,
            "order": null,
            "overflow": null,
            "overflow_x": null,
            "overflow_y": null,
            "padding": null,
            "right": null,
            "top": null,
            "visibility": null,
            "width": null
          }
        },
        "66c6e188f381436783e4e949adb17953": {
          "model_module": "@jupyter-widgets/controls",
          "model_name": "ProgressStyleModel",
          "model_module_version": "1.5.0",
          "state": {
            "_model_module": "@jupyter-widgets/controls",
            "_model_module_version": "1.5.0",
            "_model_name": "ProgressStyleModel",
            "_view_count": null,
            "_view_module": "@jupyter-widgets/base",
            "_view_module_version": "1.2.0",
            "_view_name": "StyleView",
            "bar_color": null,
            "description_width": ""
          }
        },
        "797dbd7bfefb47978cc5a523bf7a4180": {
          "model_module": "@jupyter-widgets/base",
          "model_name": "LayoutModel",
          "model_module_version": "1.2.0",
          "state": {
            "_model_module": "@jupyter-widgets/base",
            "_model_module_version": "1.2.0",
            "_model_name": "LayoutModel",
            "_view_count": null,
            "_view_module": "@jupyter-widgets/base",
            "_view_module_version": "1.2.0",
            "_view_name": "LayoutView",
            "align_content": null,
            "align_items": null,
            "align_self": null,
            "border": null,
            "bottom": null,
            "display": null,
            "flex": null,
            "flex_flow": null,
            "grid_area": null,
            "grid_auto_columns": null,
            "grid_auto_flow": null,
            "grid_auto_rows": null,
            "grid_column": null,
            "grid_gap": null,
            "grid_row": null,
            "grid_template_areas": null,
            "grid_template_columns": null,
            "grid_template_rows": null,
            "height": null,
            "justify_content": null,
            "justify_items": null,
            "left": null,
            "margin": null,
            "max_height": null,
            "max_width": null,
            "min_height": null,
            "min_width": null,
            "object_fit": null,
            "object_position": null,
            "order": null,
            "overflow": null,
            "overflow_x": null,
            "overflow_y": null,
            "padding": null,
            "right": null,
            "top": null,
            "visibility": null,
            "width": null
          }
        },
        "3d3dd859d89d4b0eaa227d18cac7bd72": {
          "model_module": "@jupyter-widgets/controls",
          "model_name": "DescriptionStyleModel",
          "model_module_version": "1.5.0",
          "state": {
            "_model_module": "@jupyter-widgets/controls",
            "_model_module_version": "1.5.0",
            "_model_name": "DescriptionStyleModel",
            "_view_count": null,
            "_view_module": "@jupyter-widgets/base",
            "_view_module_version": "1.2.0",
            "_view_name": "StyleView",
            "description_width": ""
          }
        }
      }
    }
  },
  "nbformat": 4,
  "nbformat_minor": 0
}