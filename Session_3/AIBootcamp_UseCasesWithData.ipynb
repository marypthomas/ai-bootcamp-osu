{
  "nbformat": 4,
  "nbformat_minor": 0,
  "metadata": {
    "colab": {
      "provenance": [],
      "include_colab_link": true
    },
    "kernelspec": {
      "name": "python3",
      "display_name": "Python 3"
    },
    "language_info": {
      "name": "python"
    }
  },
  "cells": [
    {
      "cell_type": "markdown",
      "metadata": {
        "id": "view-in-github",
        "colab_type": "text"
      },
      "source": [
        "<a href=\"https://colab.research.google.com/github/marypthomas/ai-bootcamp-osu/blob/main/AIBootcamp_UseCasesWithData.ipynb\" target=\"_parent\"><img src=\"https://colab.research.google.com/assets/colab-badge.svg\" alt=\"Open In Colab\"/></a>"
      ]
    },
    {
      "cell_type": "markdown",
      "source": [
        "# ** Data Science through Workflows**\n",
        "\n",
        "**Authors**:\n",
        "- Dr. Chaitanya Kulkarni, Meta Inc.\n",
        "- Dr. Jany Chan, The Ohio State University\n",
        "- Prof. Raghu Machiraju, The Ohio State University\n",
        "\n"
      ],
      "metadata": {
        "id": "caT2B16NMa72"
      }
    },
    {
      "cell_type": "markdown",
      "source": [
        "## Objectives\n",
        "In this notebook, we\n",
        "- learn of workflows for different kinds of data;\n",
        "- learn to implement the workflows using Python tools and libraries;\n",
        "- learn the limits of scaling data sizes.\n",
        "\n"
      ],
      "metadata": {
        "id": "bYDWHPZVLJPV"
      }
    },
    {
      "cell_type": "markdown",
      "source": [
        "## Review\n",
        "We went through a lot of content in the previous two sessions since we are in a rush to introduce the environments at OSC. \n",
        "\n",
        "Now let us plunge into different kinds of data.  This notebook will be most valuable if  some amount of time is expended on reviewing material.  Please note this material from  the Spring 2022 workshop.\n",
        "\n",
        "We will suggest that you visit modules of the Spring 2022 workshop:\n",
        "- review content for **Module 1**; especially the workflows for analyzing and visualizing the \"accident data set\" \n",
        "- Review content for **Module 2**.\n",
        "  - If you still have no or little exposure to ``Python``, please walk through the notebook pertinent to the basics.\n",
        "  - Learning how to use ``Numpy`` is valuable. Please review the notebooks dedicated to Numpy.\n",
        "  - ``pandas`` are especially valuable for working with table data at the least and for many more kinds of data. Again, please review as needed the three notebooks on ``pandas``. \n",
        "\n",
        "**Note: Use the notebooks as resources and engage in just-in-time learning. There is no need to drink from the ocean; one will drown** \n",
        "\n",
        "Given the wide variance in backgrounds, we felt it is best to highlight major points and provide material for self-study.  After all, the final goal is to use high-perfomance-computing systems for AI and data science.\n",
        "\n"
      ],
      "metadata": {
        "id": "aW8QQcNILO1H"
      }
    },
    {
      "cell_type": "markdown",
      "source": [
        "## Data Science with Workflows \n",
        "\n",
        "In Session 1, we talked about a workflow for the accident data. To review data analysis workflow will naturally consist of following steps:\n",
        "- data is collected, cleaned, and annotated;\n",
        "- data was examined by examining gross statistics\n",
        "- data was visualized to gain insights and one poses questions and forms hypotheses\n",
        "- data was sliced and diced, transformed and visualized again if neeeded.\n",
        "\n",
        "These steps will be repeated for each of the use cases in some form or fashion.\n",
        "\n",
        "**Is this data science?** Yes, the working definition is following:\n",
        "\n",
        "  _Data science is an interdisciplinary field that uses scientific methods, processes, algorithms and systems to extract knowledge and insights from noisy, structured and unstructured data, and apply knowledge and actionable insights from data across a broad range of application domains_  (source: Wikipedia)\n",
        "\n",
        "As one can note, it is all about working with data to get insights. **In summary, workflows are the best way to learn data science.**\n"
      ],
      "metadata": {
        "id": "ThxqF2szO9cx"
      }
    },
    {
      "cell_type": "markdown",
      "source": [
        "# Workflows: Different Data Types\n",
        "In this notebook, you will learn about workflows for the following use cases\n",
        "- Structured image data with ``Numpy``\n",
        "- Map data with ``pandas``\n",
        "- Unstructured text  with``pandas``\n",
        "\n"
      ],
      "metadata": {
        "id": "fMoU7J-oL-Dv"
      }
    },
    {
      "cell_type": "markdown",
      "source": [],
      "metadata": {
        "id": "xLNEPQ20QdX3"
      }
    },
    {
      "cell_type": "markdown",
      "source": [
        "## Working with Images \n",
        "\n",
        "``Numpy`` will be used in this particular worklow:\n",
        "\n",
        "https://colab.research.google.com/drive/1sOQl2wf_V5R3BOWmrjxA7P3lIYpDbWVD#scrollTo=TVnvTOE3lVAe "
      ],
      "metadata": {
        "id": "tjxMW6-xUhrI"
      }
    },
    {
      "cell_type": "markdown",
      "source": [
        "## Working with Unstructured Text\n",
        "\n",
        "``pandas`` will be used in this particular worklow:\n",
        "\n",
        "https://colab.research.google.com/drive/1BxbgSGpWyUDiMaDRlIvE9hifWTYKBzVq "
      ],
      "metadata": {
        "id": "DQxX7134UkGW"
      }
    },
    {
      "cell_type": "markdown",
      "source": [
        "## Working with Maps\n",
        "\n",
        "``pandas`` will be used in this particular worklow:\n",
        "\n",
        "https://colab.research.google.com/drive/1ECqzilFSYdrSFAPTehvliXPXKhvTcqFE \n",
        "\n",
        "\n"
      ],
      "metadata": {
        "id": "o2iWGQa9Ud5e"
      }
    },
    {
      "cell_type": "code",
      "source": [
        "from google.colab import drive\n",
        "drive.mount('/content/drive')"
      ],
      "metadata": {
        "id": "K6ueDniZ13H0"
      },
      "execution_count": null,
      "outputs": []
    },
    {
      "cell_type": "markdown",
      "source": [
        "#Summary\n",
        "\n",
        "In this notebook, we have seen non-trivial example workflows for three different kinds of data namely images, maps, and text. For the latter two examples, the data was dervied from tables. Many other data types are often used in typical workflows. However, the ones presented here should at least provide enough understanding of how to work with a vareity of data with Python."
      ],
      "metadata": {
        "id": "X8vHRJB60eJK"
      }
    }
  ]
}
